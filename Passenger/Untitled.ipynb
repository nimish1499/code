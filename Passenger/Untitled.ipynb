{
 "cells": [
  {
   "cell_type": "markdown",
   "metadata": {},
   "source": [
    "This is a problem where, given a year and a month, the task is to predict the number of international airline passengers in units of 1,000. The data ranges from January 1949 to December 1960, or 12 years, with 144 observations."
   ]
  },
  {
   "cell_type": "code",
   "execution_count": 1,
   "metadata": {},
   "outputs": [],
   "source": [
    "import numpy as np\n",
    "import pandas as pd\n",
    "import matplotlib.pyplot as plt"
   ]
  },
  {
   "cell_type": "code",
   "execution_count": 2,
   "metadata": {},
   "outputs": [
    {
     "data": {
      "text/html": [
       "<div>\n",
       "<style scoped>\n",
       "    .dataframe tbody tr th:only-of-type {\n",
       "        vertical-align: middle;\n",
       "    }\n",
       "\n",
       "    .dataframe tbody tr th {\n",
       "        vertical-align: top;\n",
       "    }\n",
       "\n",
       "    .dataframe thead th {\n",
       "        text-align: right;\n",
       "    }\n",
       "</style>\n",
       "<table border=\"1\" class=\"dataframe\">\n",
       "  <thead>\n",
       "    <tr style=\"text-align: right;\">\n",
       "      <th></th>\n",
       "      <th>Month</th>\n",
       "      <th>#Passengers</th>\n",
       "    </tr>\n",
       "  </thead>\n",
       "  <tbody>\n",
       "    <tr>\n",
       "      <th>0</th>\n",
       "      <td>1949-01</td>\n",
       "      <td>112</td>\n",
       "    </tr>\n",
       "    <tr>\n",
       "      <th>1</th>\n",
       "      <td>1949-02</td>\n",
       "      <td>118</td>\n",
       "    </tr>\n",
       "    <tr>\n",
       "      <th>2</th>\n",
       "      <td>1949-03</td>\n",
       "      <td>132</td>\n",
       "    </tr>\n",
       "    <tr>\n",
       "      <th>3</th>\n",
       "      <td>1949-04</td>\n",
       "      <td>129</td>\n",
       "    </tr>\n",
       "    <tr>\n",
       "      <th>4</th>\n",
       "      <td>1949-05</td>\n",
       "      <td>121</td>\n",
       "    </tr>\n",
       "  </tbody>\n",
       "</table>\n",
       "</div>"
      ],
      "text/plain": [
       "     Month  #Passengers\n",
       "0  1949-01          112\n",
       "1  1949-02          118\n",
       "2  1949-03          132\n",
       "3  1949-04          129\n",
       "4  1949-05          121"
      ]
     },
     "execution_count": 2,
     "metadata": {},
     "output_type": "execute_result"
    }
   ],
   "source": [
    "df = pd.read_csv('AirPassengers.csv')\n",
    "df.head()"
   ]
  },
  {
   "cell_type": "code",
   "execution_count": 3,
   "metadata": {},
   "outputs": [],
   "source": [
    "df['Month'] = pd.to_datetime(df['Month'])"
   ]
  },
  {
   "cell_type": "code",
   "execution_count": 4,
   "metadata": {},
   "outputs": [
    {
     "data": {
      "text/html": [
       "<div>\n",
       "<style scoped>\n",
       "    .dataframe tbody tr th:only-of-type {\n",
       "        vertical-align: middle;\n",
       "    }\n",
       "\n",
       "    .dataframe tbody tr th {\n",
       "        vertical-align: top;\n",
       "    }\n",
       "\n",
       "    .dataframe thead th {\n",
       "        text-align: right;\n",
       "    }\n",
       "</style>\n",
       "<table border=\"1\" class=\"dataframe\">\n",
       "  <thead>\n",
       "    <tr style=\"text-align: right;\">\n",
       "      <th></th>\n",
       "      <th>Month</th>\n",
       "      <th>#Passengers</th>\n",
       "    </tr>\n",
       "  </thead>\n",
       "  <tbody>\n",
       "    <tr>\n",
       "      <th>0</th>\n",
       "      <td>1949-01-01</td>\n",
       "      <td>112</td>\n",
       "    </tr>\n",
       "    <tr>\n",
       "      <th>1</th>\n",
       "      <td>1949-02-01</td>\n",
       "      <td>118</td>\n",
       "    </tr>\n",
       "    <tr>\n",
       "      <th>2</th>\n",
       "      <td>1949-03-01</td>\n",
       "      <td>132</td>\n",
       "    </tr>\n",
       "    <tr>\n",
       "      <th>3</th>\n",
       "      <td>1949-04-01</td>\n",
       "      <td>129</td>\n",
       "    </tr>\n",
       "    <tr>\n",
       "      <th>4</th>\n",
       "      <td>1949-05-01</td>\n",
       "      <td>121</td>\n",
       "    </tr>\n",
       "  </tbody>\n",
       "</table>\n",
       "</div>"
      ],
      "text/plain": [
       "       Month  #Passengers\n",
       "0 1949-01-01          112\n",
       "1 1949-02-01          118\n",
       "2 1949-03-01          132\n",
       "3 1949-04-01          129\n",
       "4 1949-05-01          121"
      ]
     },
     "execution_count": 4,
     "metadata": {},
     "output_type": "execute_result"
    }
   ],
   "source": [
    "df.head()"
   ]
  },
  {
   "cell_type": "code",
   "execution_count": 5,
   "metadata": {},
   "outputs": [
    {
     "data": {
      "text/html": [
       "<div>\n",
       "<style scoped>\n",
       "    .dataframe tbody tr th:only-of-type {\n",
       "        vertical-align: middle;\n",
       "    }\n",
       "\n",
       "    .dataframe tbody tr th {\n",
       "        vertical-align: top;\n",
       "    }\n",
       "\n",
       "    .dataframe thead th {\n",
       "        text-align: right;\n",
       "    }\n",
       "</style>\n",
       "<table border=\"1\" class=\"dataframe\">\n",
       "  <thead>\n",
       "    <tr style=\"text-align: right;\">\n",
       "      <th></th>\n",
       "      <th>Month</th>\n",
       "      <th>#Passengers</th>\n",
       "    </tr>\n",
       "  </thead>\n",
       "  <tbody>\n",
       "    <tr>\n",
       "      <th>139</th>\n",
       "      <td>1960-08-01</td>\n",
       "      <td>606</td>\n",
       "    </tr>\n",
       "    <tr>\n",
       "      <th>140</th>\n",
       "      <td>1960-09-01</td>\n",
       "      <td>508</td>\n",
       "    </tr>\n",
       "    <tr>\n",
       "      <th>141</th>\n",
       "      <td>1960-10-01</td>\n",
       "      <td>461</td>\n",
       "    </tr>\n",
       "    <tr>\n",
       "      <th>142</th>\n",
       "      <td>1960-11-01</td>\n",
       "      <td>390</td>\n",
       "    </tr>\n",
       "    <tr>\n",
       "      <th>143</th>\n",
       "      <td>1960-12-01</td>\n",
       "      <td>432</td>\n",
       "    </tr>\n",
       "  </tbody>\n",
       "</table>\n",
       "</div>"
      ],
      "text/plain": [
       "         Month  #Passengers\n",
       "139 1960-08-01          606\n",
       "140 1960-09-01          508\n",
       "141 1960-10-01          461\n",
       "142 1960-11-01          390\n",
       "143 1960-12-01          432"
      ]
     },
     "execution_count": 5,
     "metadata": {},
     "output_type": "execute_result"
    }
   ],
   "source": [
    "df.tail()"
   ]
  },
  {
   "cell_type": "code",
   "execution_count": 6,
   "metadata": {},
   "outputs": [
    {
     "data": {
      "text/plain": [
       "0    112\n",
       "1    118\n",
       "2    132\n",
       "3    129\n",
       "4    121\n",
       "Name: #Passengers, dtype: int64"
      ]
     },
     "execution_count": 6,
     "metadata": {},
     "output_type": "execute_result"
    }
   ],
   "source": [
    "df.iloc[:,1][:5]"
   ]
  },
  {
   "cell_type": "code",
   "execution_count": 7,
   "metadata": {},
   "outputs": [
    {
     "data": {
      "image/png": "[encoded data removed]",
      "text/plain": [
       "<Figure size 432x288 with 1 Axes>"
      ]
     },
     "metadata": {
      "needs_background": "light"
     },
     "output_type": "display_data"
    }
   ],
   "source": [
    "plt.plot(df['#Passengers'])\n",
    "plt.ylabel('Number of passengers')\n",
    "plt.xlabel('Months')\n",
    "plt.show()"
   ]
  },
  {
   "cell_type": "markdown",
   "metadata": {},
   "source": [
    "## Feature Scaling"
   ]
  },
  {
   "cell_type": "code",
   "execution_count": 8,
   "metadata": {},
   "outputs": [],
   "source": [
    "from sklearn.preprocessing import MinMaxScaler"
   ]
  },
  {
   "cell_type": "code",
   "execution_count": 9,
   "metadata": {},
   "outputs": [
    {
     "data": {
      "text/plain": [
       "(144,)"
      ]
     },
     "execution_count": 9,
     "metadata": {},
     "output_type": "execute_result"
    }
   ],
   "source": [
    "df.iloc[:,1].shape"
   ]
  },
  {
   "cell_type": "code",
   "execution_count": 10,
   "metadata": {},
   "outputs": [],
   "source": [
    "mc = MinMaxScaler(feature_range=(0,1))\n",
    "\n",
    "data = mc.fit_transform(df.iloc[:,1:]) #  we can Scale only a 2d array "
   ]
  },
  {
   "cell_type": "code",
   "execution_count": 11,
   "metadata": {},
   "outputs": [
    {
     "data": {
      "text/plain": [
       "(144, 1)"
      ]
     },
     "execution_count": 11,
     "metadata": {},
     "output_type": "execute_result"
    }
   ],
   "source": [
    "data.shape"
   ]
  },
  {
   "cell_type": "code",
   "execution_count": 12,
   "metadata": {},
   "outputs": [
    {
     "data": {
      "text/plain": [
       "array([[0.01544402],\n",
       "       [0.02702703],\n",
       "       [0.05405405],\n",
       "       [0.04826255],\n",
       "       [0.03281853]])"
      ]
     },
     "execution_count": 12,
     "metadata": {},
     "output_type": "execute_result"
    }
   ],
   "source": [
    "data[:5]"
   ]
  },
  {
   "cell_type": "code",
   "execution_count": 13,
   "metadata": {},
   "outputs": [
    {
     "data": {
      "text/plain": [
       "144"
      ]
     },
     "execution_count": 13,
     "metadata": {},
     "output_type": "execute_result"
    }
   ],
   "source": [
    "len(data)"
   ]
  },
  {
   "cell_type": "code",
   "execution_count": 14,
   "metadata": {},
   "outputs": [],
   "source": [
    "## SPlitting to test and train data\n",
    "train_size = int(len(data)*0.65)"
   ]
  },
  {
   "cell_type": "code",
   "execution_count": 15,
   "metadata": {},
   "outputs": [
    {
     "data": {
      "text/plain": [
       "93"
      ]
     },
     "execution_count": 15,
     "metadata": {},
     "output_type": "execute_result"
    }
   ],
   "source": [
    "train_size"
   ]
  },
  {
   "cell_type": "code",
   "execution_count": 17,
   "metadata": {},
   "outputs": [],
   "source": [
    "test_size = (len(data))- train_size"
   ]
  },
  {
   "cell_type": "code",
   "execution_count": 18,
   "metadata": {},
   "outputs": [
    {
     "data": {
      "text/plain": [
       "51"
      ]
     },
     "execution_count": 18,
     "metadata": {},
     "output_type": "execute_result"
    }
   ],
   "source": [
    "test_size"
   ]
  },
  {
   "cell_type": "code",
   "execution_count": 20,
   "metadata": {},
   "outputs": [],
   "source": [
    "train_data,test_data = data[0:train_size,:],data[train_size:len(data),:1]"
   ]
  },
  {
   "cell_type": "code",
   "execution_count": 21,
   "metadata": {},
   "outputs": [
    {
     "data": {
      "text/plain": [
       "array([[0.01544402],\n",
       "       [0.02702703],\n",
       "       [0.05405405],\n",
       "       [0.04826255],\n",
       "       [0.03281853]])"
      ]
     },
     "execution_count": 21,
     "metadata": {},
     "output_type": "execute_result"
    }
   ],
   "source": [
    "train_data[:5]"
   ]
  },
  {
   "cell_type": "code",
   "execution_count": 22,
   "metadata": {},
   "outputs": [
    {
     "data": {
      "text/plain": [
       "(93, 1)"
      ]
     },
     "execution_count": 22,
     "metadata": {},
     "output_type": "execute_result"
    }
   ],
   "source": [
    "train_data.shape"
   ]
  },
  {
   "cell_type": "code",
   "execution_count": 24,
   "metadata": {},
   "outputs": [
    {
     "data": {
      "text/plain": [
       "(51, 1)"
      ]
     },
     "execution_count": 24,
     "metadata": {},
     "output_type": "execute_result"
    }
   ],
   "source": [
    "test_data.shape"
   ]
  },
  {
   "cell_type": "code",
   "execution_count": 25,
   "metadata": {},
   "outputs": [
    {
     "data": {
      "text/plain": [
       "array([[0.38996139],\n",
       "       [0.32239382],\n",
       "       [0.38996139],\n",
       "       [0.40733591],\n",
       "       [0.38030888]])"
      ]
     },
     "execution_count": 25,
     "metadata": {},
     "output_type": "execute_result"
    }
   ],
   "source": [
    "test_data[:5]"
   ]
  },
  {
   "cell_type": "code",
   "execution_count": 27,
   "metadata": {},
   "outputs": [],
   "source": [
    "import numpy\n",
    "# convert an array of values into a dataset matrix\n",
    "def create_dataset(dataset, time_step=1):\n",
    "\tdataX, dataY = [], []\n",
    "\tfor i in range(len(dataset)-time_step-1):\n",
    "\t\ta = dataset[i:(i+time_step), 0]   ###i=0, 0,1,2,3\n",
    "\t\tdataX.append(a)\n",
    "\t\tdataY.append(dataset[i + time_step, 0])\n",
    "\treturn numpy.array(dataX), numpy.array(dataY)"
   ]
  },
  {
   "cell_type": "code",
   "execution_count": 28,
   "metadata": {},
   "outputs": [],
   "source": [
    "# reshape into X=t,t+1,t+2,t+3 and Y=t+4\n",
    "time_step = 4\n",
    "X_train, y_train = create_dataset(train_data, time_step)\n",
    "X_test, ytest = create_dataset(test_data, time_step)"
   ]
  },
  {
   "cell_type": "code",
   "execution_count": 29,
   "metadata": {},
   "outputs": [
    {
     "data": {
      "text/plain": [
       "((88, 4), (88,))"
      ]
     },
     "execution_count": 29,
     "metadata": {},
     "output_type": "execute_result"
    }
   ],
   "source": [
    "X_train.shape, y_train.shape\n"
   ]
  },
  {
   "cell_type": "code",
   "execution_count": 30,
   "metadata": {},
   "outputs": [],
   "source": [
    "import numpy as np\n",
    "# reshape input to be [samples, time steps, features] which is required for LSTM\n",
    "X_train =X_train.reshape(X_train.shape[0], 4, 1)\n",
    "X_test = X_test.reshape(X_test.shape[0], 4, 1)"
   ]
  },
  {
   "cell_type": "code",
   "execution_count": 31,
   "metadata": {},
   "outputs": [],
   "source": [
    "### Create the LSTM model\n",
    "from tensorflow.keras.models import Sequential\n",
    "from tensorflow.keras.layers import Dense\n",
    "from tensorflow.keras.layers import LSTM"
   ]
  },
  {
   "cell_type": "code",
   "execution_count": 32,
   "metadata": {},
   "outputs": [
    {
     "name": "stdout",
     "output_type": "stream",
     "text": [
      "WARNING:tensorflow:From C:\\Users\\Nimish\\Anaconda3\\lib\\site-packages\\tensorflow\\python\\ops\\resource_variable_ops.py:435: colocate_with (from tensorflow.python.framework.ops) is deprecated and will be removed in a future version.\n",
      "Instructions for updating:\n",
      "Colocations handled automatically by placer.\n",
      "WARNING:tensorflow:From C:\\Users\\Nimish\\Anaconda3\\lib\\site-packages\\tensorflow\\python\\keras\\utils\\losses_utils.py:170: to_float (from tensorflow.python.ops.math_ops) is deprecated and will be removed in a future version.\n",
      "Instructions for updating:\n",
      "Use tf.cast instead.\n"
     ]
    }
   ],
   "source": [
    "model=Sequential()\n",
    "model.add(LSTM(50,return_sequences=True,input_shape=(4,1)))\n",
    "model.add(LSTM(50))\n",
    "model.add(Dense(1))\n",
    "model.compile(loss='mean_squared_error',optimizer='adam')"
   ]
  },
  {
   "cell_type": "code",
   "execution_count": 34,
   "metadata": {},
   "outputs": [
    {
     "name": "stdout",
     "output_type": "stream",
     "text": [
      "Train on 88 samples, validate on 46 samples\n",
      "WARNING:tensorflow:From C:\\Users\\Nimish\\Anaconda3\\lib\\site-packages\\tensorflow\\python\\ops\\math_ops.py:3066: to_int32 (from tensorflow.python.ops.math_ops) is deprecated and will be removed in a future version.\n",
      "Instructions for updating:\n",
      "Use tf.cast instead.\n",
      "Epoch 1/100\n",
      "88/88 [==============================] - 6s 72ms/sample - loss: 0.0128 - val_loss: 0.0359\n",
      "Epoch 2/100\n",
      "88/88 [==============================] - 1s 16ms/sample - loss: 0.0060 - val_loss: 0.0296\n",
      "Epoch 3/100\n",
      "88/88 [==============================] - 1s 15ms/sample - loss: 0.0064 - val_loss: 0.0322\n",
      "Epoch 4/100\n",
      "88/88 [==============================] - 1s 16ms/sample - loss: 0.0054 - val_loss: 0.0361\n",
      "Epoch 5/100\n",
      "88/88 [==============================] - 1s 16ms/sample - loss: 0.0062 - val_loss: 0.0258\n",
      "Epoch 6/100\n",
      "88/88 [==============================] - 1s 16ms/sample - loss: 0.0052 - val_loss: 0.0256\n",
      "Epoch 7/100\n",
      "88/88 [==============================] - 1s 16ms/sample - loss: 0.0054 - val_loss: 0.0238\n",
      "Epoch 8/100\n",
      "88/88 [==============================] - 1s 16ms/sample - loss: 0.0050 - val_loss: 0.0235\n",
      "Epoch 9/100\n",
      "88/88 [==============================] - 1s 16ms/sample - loss: 0.0052 - val_loss: 0.0238\n",
      "Epoch 10/100\n",
      "88/88 [==============================] - 1s 16ms/sample - loss: 0.0047 - val_loss: 0.0207\n",
      "Epoch 11/100\n",
      "88/88 [==============================] - 1s 16ms/sample - loss: 0.0048 - val_loss: 0.0200\n",
      "Epoch 12/100\n",
      "88/88 [==============================] - 1s 17ms/sample - loss: 0.0051 - val_loss: 0.0191\n",
      "Epoch 13/100\n",
      "88/88 [==============================] - 1s 17ms/sample - loss: 0.0047 - val_loss: 0.0177\n",
      "Epoch 14/100\n",
      "88/88 [==============================] - 1s 16ms/sample - loss: 0.0040 - val_loss: 0.0239\n",
      "Epoch 15/100\n",
      "88/88 [==============================] - 1s 17ms/sample - loss: 0.0037 - val_loss: 0.0144\n",
      "Epoch 16/100\n",
      "88/88 [==============================] - 1s 16ms/sample - loss: 0.0037 - val_loss: 0.0132\n",
      "Epoch 17/100\n",
      "88/88 [==============================] - 1s 16ms/sample - loss: 0.0031 - val_loss: 0.0189\n",
      "Epoch 18/100\n",
      "88/88 [==============================] - 1s 17ms/sample - loss: 0.0035 - val_loss: 0.0136\n",
      "Epoch 19/100\n",
      "88/88 [==============================] - 1s 16ms/sample - loss: 0.0030 - val_loss: 0.0099\n",
      "Epoch 20/100\n",
      "88/88 [==============================] - 2s 17ms/sample - loss: 0.0023 - val_loss: 0.0098\n",
      "Epoch 21/100\n",
      "88/88 [==============================] - 1s 16ms/sample - loss: 0.0032 - val_loss: 0.0106\n",
      "Epoch 22/100\n",
      "88/88 [==============================] - 2s 18ms/sample - loss: 0.0025 - val_loss: 0.0111\n",
      "Epoch 23/100\n",
      "88/88 [==============================] - 1s 17ms/sample - loss: 0.0024 - val_loss: 0.0094\n",
      "Epoch 24/100\n",
      "88/88 [==============================] - 1s 16ms/sample - loss: 0.0023 - val_loss: 0.0077\n",
      "Epoch 25/100\n",
      "88/88 [==============================] - 1s 16ms/sample - loss: 0.0023 - val_loss: 0.0073\n",
      "Epoch 26/100\n",
      "88/88 [==============================] - 1s 16ms/sample - loss: 0.0024 - val_loss: 0.0069\n",
      "Epoch 27/100\n",
      "88/88 [==============================] - 1s 16ms/sample - loss: 0.0028 - val_loss: 0.0077\n",
      "Epoch 28/100\n",
      "88/88 [==============================] - 1s 16ms/sample - loss: 0.0019 - val_loss: 0.0085\n",
      "Epoch 29/100\n",
      "88/88 [==============================] - 1s 16ms/sample - loss: 0.0020 - val_loss: 0.0112\n",
      "Epoch 30/100\n",
      "88/88 [==============================] - 1s 16ms/sample - loss: 0.0019 - val_loss: 0.0089\n",
      "Epoch 31/100\n",
      "88/88 [==============================] - 1s 16ms/sample - loss: 0.0018 - val_loss: 0.0089\n",
      "Epoch 32/100\n",
      "88/88 [==============================] - 1s 16ms/sample - loss: 0.0020 - val_loss: 0.0090\n",
      "Epoch 33/100\n",
      "88/88 [==============================] - 1s 16ms/sample - loss: 0.0021 - val_loss: 0.0115\n",
      "Epoch 34/100\n",
      "88/88 [==============================] - 1s 16ms/sample - loss: 0.0020 - val_loss: 0.0161\n",
      "Epoch 35/100\n",
      "88/88 [==============================] - 1s 16ms/sample - loss: 0.0021 - val_loss: 0.0128\n",
      "Epoch 36/100\n",
      "88/88 [==============================] - 1s 16ms/sample - loss: 0.0018 - val_loss: 0.0097\n",
      "Epoch 37/100\n",
      "88/88 [==============================] - 1s 16ms/sample - loss: 0.0018 - val_loss: 0.0126\n",
      "Epoch 38/100\n",
      "88/88 [==============================] - 1s 16ms/sample - loss: 0.0019 - val_loss: 0.0104\n",
      "Epoch 39/100\n",
      "88/88 [==============================] - 1s 16ms/sample - loss: 0.0023 - val_loss: 0.0085\n",
      "Epoch 40/100\n",
      "88/88 [==============================] - 1s 16ms/sample - loss: 0.0020 - val_loss: 0.0087\n",
      "Epoch 41/100\n",
      "88/88 [==============================] - 1s 16ms/sample - loss: 0.0020 - val_loss: 0.0083\n",
      "Epoch 42/100\n",
      "88/88 [==============================] - 1s 16ms/sample - loss: 0.0019 - val_loss: 0.0079\n",
      "Epoch 43/100\n",
      "88/88 [==============================] - 1s 16ms/sample - loss: 0.0018 - val_loss: 0.0087\n",
      "Epoch 44/100\n",
      "88/88 [==============================] - 1s 16ms/sample - loss: 0.0019 - val_loss: 0.0084\n",
      "Epoch 45/100\n",
      "88/88 [==============================] - 1s 16ms/sample - loss: 0.0019 - val_loss: 0.0081\n",
      "Epoch 46/100\n",
      "88/88 [==============================] - 1s 16ms/sample - loss: 0.0022 - val_loss: 0.0140\n",
      "Epoch 47/100\n",
      "88/88 [==============================] - 1s 16ms/sample - loss: 0.0020 - val_loss: 0.0080\n",
      "Epoch 48/100\n",
      "88/88 [==============================] - 1s 16ms/sample - loss: 0.0020 - val_loss: 0.0083\n",
      "Epoch 49/100\n",
      "88/88 [==============================] - 1s 16ms/sample - loss: 0.0019 - val_loss: 0.0086\n",
      "Epoch 50/100\n",
      "88/88 [==============================] - 1s 17ms/sample - loss: 0.0017 - val_loss: 0.0118\n",
      "Epoch 51/100\n",
      "88/88 [==============================] - 1s 16ms/sample - loss: 0.0018 - val_loss: 0.0182\n",
      "Epoch 52/100\n",
      "88/88 [==============================] - 1s 17ms/sample - loss: 0.0019 - val_loss: 0.0095\n",
      "Epoch 53/100\n",
      "88/88 [==============================] - 1s 16ms/sample - loss: 0.0020 - val_loss: 0.0165\n",
      "Epoch 54/100\n",
      "88/88 [==============================] - 1s 16ms/sample - loss: 0.0017 - val_loss: 0.0120\n",
      "Epoch 55/100\n",
      "88/88 [==============================] - 1s 16ms/sample - loss: 0.0019 - val_loss: 0.0292\n",
      "Epoch 56/100\n",
      "88/88 [==============================] - 1s 16ms/sample - loss: 0.0019 - val_loss: 0.0195\n",
      "Epoch 57/100\n",
      "88/88 [==============================] - 1s 16ms/sample - loss: 0.0020 - val_loss: 0.0074\n",
      "Epoch 58/100\n",
      "88/88 [==============================] - 1s 16ms/sample - loss: 0.0020 - val_loss: 0.0080\n",
      "Epoch 59/100\n",
      "88/88 [==============================] - 1s 16ms/sample - loss: 0.0016 - val_loss: 0.0081\n",
      "Epoch 60/100\n",
      "88/88 [==============================] - ETA: 0s - loss: 0.0018- ETA: 0s - loss: - 1s 16ms/sample - loss: 0.0018 - val_loss: 0.0102\n",
      "Epoch 61/100\n",
      "88/88 [==============================] - 1s 16ms/sample - loss: 0.0017 - val_loss: 0.0207A: 0s - loss\n",
      "Epoch 62/100\n",
      "88/88 [==============================] - 1s 16ms/sample - loss: 0.0019 - val_loss: 0.0123\n",
      "Epoch 63/100\n",
      "88/88 [==============================] - 1s 16ms/sample - loss: 0.0018 - val_loss: 0.0076\n",
      "Epoch 64/100\n",
      "88/88 [==============================] - 1s 16ms/sample - loss: 0.0018 - val_loss: 0.0182\n",
      "Epoch 65/100\n",
      "88/88 [==============================] - 1s 16ms/sample - loss: 0.0018 - val_loss: 0.0073\n",
      "Epoch 66/100\n",
      "88/88 [==============================] - 1s 16ms/sample - loss: 0.0016 - val_loss: 0.0158\n",
      "Epoch 67/100\n",
      "88/88 [==============================] - 1s 16ms/sample - loss: 0.0018 - val_loss: 0.0118\n",
      "Epoch 68/100\n",
      "88/88 [==============================] - 1s 16ms/sample - loss: 0.0020 - val_loss: 0.0094\n",
      "Epoch 69/100\n",
      "88/88 [==============================] - 1s 16ms/sample - loss: 0.0022 - val_loss: 0.0110\n",
      "Epoch 70/100\n",
      "88/88 [==============================] - 1s 16ms/sample - loss: 0.0019 - val_loss: 0.0127\n",
      "Epoch 71/100\n",
      "88/88 [==============================] - 1s 16ms/sample - loss: 0.0018 - val_loss: 0.0080\n",
      "Epoch 72/100\n",
      "88/88 [==============================] - 1s 16ms/sample - loss: 0.0019 - val_loss: 0.0135\n",
      "Epoch 73/100\n",
      "88/88 [==============================] - 1s 16ms/sample - loss: 0.0018 - val_loss: 0.0081\n",
      "Epoch 74/100\n",
      "88/88 [==============================] - 1s 17ms/sample - loss: 0.0021 - val_loss: 0.0118\n",
      "Epoch 75/100\n",
      "88/88 [==============================] - 2s 17ms/sample - loss: 0.0018 - val_loss: 0.0121\n",
      "Epoch 76/100\n",
      "88/88 [==============================] - 2s 17ms/sample - loss: 0.0019 - val_loss: 0.0149\n",
      "Epoch 77/100\n"
     ]
    },
    {
     "name": "stdout",
     "output_type": "stream",
     "text": [
      "88/88 [==============================] - 2s 19ms/sample - loss: 0.0019 - val_loss: 0.0096\n",
      "Epoch 78/100\n",
      "88/88 [==============================] - 2s 19ms/sample - loss: 0.0018 - val_loss: 0.0161\n",
      "Epoch 79/100\n",
      "88/88 [==============================] - 2s 20ms/sample - loss: 0.0018 - val_loss: 0.0161\n",
      "Epoch 80/100\n",
      "88/88 [==============================] - 2s 24ms/sample - loss: 0.0018 - val_loss: 0.0069\n",
      "Epoch 81/100\n",
      "88/88 [==============================] - 2s 18ms/sample - loss: 0.0019 - val_loss: 0.0109\n",
      "Epoch 82/100\n",
      "88/88 [==============================] - 2s 17ms/sample - loss: 0.0018 - val_loss: 0.0081\n",
      "Epoch 83/100\n",
      "88/88 [==============================] - 1s 16ms/sample - loss: 0.0018 - val_loss: 0.0119\n",
      "Epoch 84/100\n",
      "88/88 [==============================] - 1s 16ms/sample - loss: 0.0018 - val_loss: 0.0123\n",
      "Epoch 85/100\n",
      "88/88 [==============================] - 1s 16ms/sample - loss: 0.0019 - val_loss: 0.0198\n",
      "Epoch 86/100\n",
      "88/88 [==============================] - 1s 17ms/sample - loss: 0.0023 - val_loss: 0.0167\n",
      "Epoch 87/100\n",
      "88/88 [==============================] - 2s 19ms/sample - loss: 0.0019 - val_loss: 0.0123\n",
      "Epoch 88/100\n",
      "88/88 [==============================] - 1s 17ms/sample - loss: 0.0019 - val_loss: 0.0157\n",
      "Epoch 89/100\n",
      "88/88 [==============================] - 1s 17ms/sample - loss: 0.0018 - val_loss: 0.0127\n",
      "Epoch 90/100\n",
      "88/88 [==============================] - 1s 16ms/sample - loss: 0.0018 - val_loss: 0.0103\n",
      "Epoch 91/100\n",
      "88/88 [==============================] - 1s 16ms/sample - loss: 0.0019 - val_loss: 0.0096\n",
      "Epoch 92/100\n",
      "88/88 [==============================] - 1s 17ms/sample - loss: 0.0018 - val_loss: 0.0108\n",
      "Epoch 93/100\n",
      "88/88 [==============================] - 1s 16ms/sample - loss: 0.0019 - val_loss: 0.0089\n",
      "Epoch 94/100\n",
      "88/88 [==============================] - 1s 17ms/sample - loss: 0.0018 - val_loss: 0.0158\n",
      "Epoch 95/100\n",
      "88/88 [==============================] - 1s 16ms/sample - loss: 0.0018 - val_loss: 0.0147\n",
      "Epoch 96/100\n",
      "88/88 [==============================] - 2s 17ms/sample - loss: 0.0018 - val_loss: 0.0156\n",
      "Epoch 97/100\n",
      "88/88 [==============================] - 1s 17ms/sample - loss: 0.0019 - val_loss: 0.0085\n",
      "Epoch 98/100\n",
      "88/88 [==============================] - 1s 17ms/sample - loss: 0.0020 - val_loss: 0.0077\n",
      "Epoch 99/100\n",
      "88/88 [==============================] - 1s 17ms/sample - loss: 0.0021 - val_loss: 0.0151\n",
      "Epoch 100/100\n",
      "88/88 [==============================] - 1s 17ms/sample - loss: 0.0018 - val_loss: 0.0149\n"
     ]
    },
    {
     "data": {
      "text/plain": [
       "<tensorflow.python.keras.callbacks.History at 0x1d4f3c6d898>"
      ]
     },
     "execution_count": 34,
     "metadata": {},
     "output_type": "execute_result"
    }
   ],
   "source": [
    "model.fit(X_train, y_train, validation_data=(X_test, ytest), batch_size=1, verbose=1, epochs=100)"
   ]
  },
  {
   "cell_type": "code",
   "execution_count": 38,
   "metadata": {},
   "outputs": [],
   "source": [
    "### Lets Do the prediction and check performance metrics\n",
    "train_predict=model.predict(X_train)\n",
    "test_predict=model.predict(X_test)"
   ]
  },
  {
   "cell_type": "code",
   "execution_count": 40,
   "metadata": {},
   "outputs": [],
   "source": [
    "train_predict=mc.inverse_transform(train_predict)\n",
    "test_predict=mc.inverse_transform(test_predict)"
   ]
  },
  {
   "cell_type": "code",
   "execution_count": 41,
   "metadata": {},
   "outputs": [
    {
     "data": {
      "text/plain": [
       "217.22443329550032"
      ]
     },
     "execution_count": 41,
     "metadata": {},
     "output_type": "execute_result"
    }
   ],
   "source": [
    "### Calculate RMSE performance metrics\n",
    "import math\n",
    "from sklearn.metrics import mean_squared_error\n",
    "math.sqrt(mean_squared_error(y_train,train_predict))"
   ]
  },
  {
   "cell_type": "code",
   "execution_count": 42,
   "metadata": {},
   "outputs": [
    {
     "data": {
      "text/plain": [
       "378.3217072917896"
      ]
     },
     "execution_count": 42,
     "metadata": {},
     "output_type": "execute_result"
    }
   ],
   "source": [
    "### Calculate RMSE performance metrics\n",
    "math.sqrt(mean_squared_error(ytest,test_predict))"
   ]
  },
  {
   "cell_type": "code",
   "execution_count": 45,
   "metadata": {},
   "outputs": [
    {
     "data": {
      "image/png": "[encoded data removed]",
      "text/plain": [
       "<Figure size 432x288 with 1 Axes>"
      ]
     },
     "metadata": {
      "needs_background": "light"
     },
     "output_type": "display_data"
    }
   ],
   "source": [
    "\n",
    "### Plotting \n",
    "# shift train predictions for plotting\n",
    "look_back=4\n",
    "trainPredictPlot = numpy.empty_like(data)\n",
    "trainPredictPlot[:, :] = np.nan\n",
    "trainPredictPlot[look_back:len(train_predict)+look_back, :] = train_predict\n",
    "# shift test predictions for plotting\n",
    "testPredictPlot = numpy.empty_like(data)\n",
    "testPredictPlot[:, :] = numpy.nan\n",
    "testPredictPlot[len(train_predict)+(look_back*2)+1:len(df)-1, :] = test_predict\n",
    "# plot baseline and predictions\n",
    "plt.plot(mc.inverse_transform(data))\n",
    "plt.plot(trainPredictPlot)\n",
    "plt.plot(testPredictPlot)\n",
    "plt.show()"
   ]
  },
  {
   "cell_type": "code",
   "execution_count": null,
   "metadata": {},
   "outputs": [],
   "source": []
  }
 ],
 "metadata": {
  "kernelspec": {
   "display_name": "Python 3",
   "language": "python",
   "name": "python3"
  },
  "language_info": {
   "codemirror_mode": {
    "name": "ipython",
    "version": 3
   },
   "file_extension": ".py",
   "mimetype": "text/x-python",
   "name": "python",
   "nbconvert_exporter": "python",
   "pygments_lexer": "ipython3",
   "version": "3.7.3"
  }
 },
 "nbformat": 4,
 "nbformat_minor": 2
}
