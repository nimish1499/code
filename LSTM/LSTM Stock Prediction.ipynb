{
 "cells": [
  {
   "cell_type": "code",
   "execution_count": 1,
   "metadata": {},
   "outputs": [],
   "source": [
    "import numpy as np\n",
    "import pandas as pd\n",
    "import matplotlib.pyplot as plt"
   ]
  },
  {
   "cell_type": "code",
   "execution_count": 2,
   "metadata": {},
   "outputs": [],
   "source": [
    "# Importing the training set\n",
    "dataset_train = pd.read_csv('Google_Stock_Price_Train.csv')\n",
    "training_set = dataset_train.iloc[:, 1:2].values # Considering only Open values"
   ]
  },
  {
   "cell_type": "code",
   "execution_count": 3,
   "metadata": {},
   "outputs": [
    {
     "data": {
      "text/html": [
       "<div>\n",
       "<style scoped>\n",
       "    .dataframe tbody tr th:only-of-type {\n",
       "        vertical-align: middle;\n",
       "    }\n",
       "\n",
       "    .dataframe tbody tr th {\n",
       "        vertical-align: top;\n",
       "    }\n",
       "\n",
       "    .dataframe thead th {\n",
       "        text-align: right;\n",
       "    }\n",
       "</style>\n",
       "<table border=\"1\" class=\"dataframe\">\n",
       "  <thead>\n",
       "    <tr style=\"text-align: right;\">\n",
       "      <th></th>\n",
       "      <th>Date</th>\n",
       "      <th>Open</th>\n",
       "      <th>High</th>\n",
       "      <th>Low</th>\n",
       "      <th>Close</th>\n",
       "      <th>Volume</th>\n",
       "    </tr>\n",
       "  </thead>\n",
       "  <tbody>\n",
       "    <tr>\n",
       "      <th>0</th>\n",
       "      <td>1/3/2012</td>\n",
       "      <td>325.25</td>\n",
       "      <td>332.83</td>\n",
       "      <td>324.97</td>\n",
       "      <td>663.59</td>\n",
       "      <td>7,380,500</td>\n",
       "    </tr>\n",
       "    <tr>\n",
       "      <th>1</th>\n",
       "      <td>1/4/2012</td>\n",
       "      <td>331.27</td>\n",
       "      <td>333.87</td>\n",
       "      <td>329.08</td>\n",
       "      <td>666.45</td>\n",
       "      <td>5,749,400</td>\n",
       "    </tr>\n",
       "    <tr>\n",
       "      <th>2</th>\n",
       "      <td>1/5/2012</td>\n",
       "      <td>329.83</td>\n",
       "      <td>330.75</td>\n",
       "      <td>326.89</td>\n",
       "      <td>657.21</td>\n",
       "      <td>6,590,300</td>\n",
       "    </tr>\n",
       "    <tr>\n",
       "      <th>3</th>\n",
       "      <td>1/6/2012</td>\n",
       "      <td>328.34</td>\n",
       "      <td>328.77</td>\n",
       "      <td>323.68</td>\n",
       "      <td>648.24</td>\n",
       "      <td>5,405,900</td>\n",
       "    </tr>\n",
       "    <tr>\n",
       "      <th>4</th>\n",
       "      <td>1/9/2012</td>\n",
       "      <td>322.04</td>\n",
       "      <td>322.29</td>\n",
       "      <td>309.46</td>\n",
       "      <td>620.76</td>\n",
       "      <td>11,688,800</td>\n",
       "    </tr>\n",
       "  </tbody>\n",
       "</table>\n",
       "</div>"
      ],
      "text/plain": [
       "       Date    Open    High     Low   Close      Volume\n",
       "0  1/3/2012  325.25  332.83  324.97  663.59   7,380,500\n",
       "1  1/4/2012  331.27  333.87  329.08  666.45   5,749,400\n",
       "2  1/5/2012  329.83  330.75  326.89  657.21   6,590,300\n",
       "3  1/6/2012  328.34  328.77  323.68  648.24   5,405,900\n",
       "4  1/9/2012  322.04  322.29  309.46  620.76  11,688,800"
      ]
     },
     "execution_count": 3,
     "metadata": {},
     "output_type": "execute_result"
    }
   ],
   "source": [
    "dataset_train.head()"
   ]
  },
  {
   "cell_type": "code",
   "execution_count": 4,
   "metadata": {},
   "outputs": [
    {
     "data": {
      "text/plain": [
       "array([[325.25],\n",
       "       [331.27],\n",
       "       [329.83],\n",
       "       [328.34],\n",
       "       [322.04]])"
      ]
     },
     "execution_count": 4,
     "metadata": {},
     "output_type": "execute_result"
    }
   ],
   "source": [
    "training_set[:5]"
   ]
  },
  {
   "cell_type": "code",
   "execution_count": 5,
   "metadata": {},
   "outputs": [
    {
     "data": {
      "text/plain": [
       "1258"
      ]
     },
     "execution_count": 5,
     "metadata": {},
     "output_type": "execute_result"
    }
   ],
   "source": [
    "training_set.size"
   ]
  },
  {
   "cell_type": "markdown",
   "metadata": {},
   "source": [
    "## Data Preprocessing"
   ]
  },
  {
   "cell_type": "code",
   "execution_count": 6,
   "metadata": {},
   "outputs": [],
   "source": [
    "# Feature scaling Values between 0 and 1\n",
    "from sklearn.preprocessing import MinMaxScaler\n",
    "mc = MinMaxScaler(feature_range = (0,1))\n",
    "training_set_scaled = mc.fit_transform(training_set)"
   ]
  },
  {
   "cell_type": "code",
   "execution_count": 7,
   "metadata": {},
   "outputs": [
    {
     "data": {
      "text/plain": [
       "array([[0.08581368],\n",
       "       [0.09701243],\n",
       "       [0.09433366],\n",
       "       [0.09156187],\n",
       "       [0.07984225]])"
      ]
     },
     "execution_count": 7,
     "metadata": {},
     "output_type": "execute_result"
    }
   ],
   "source": [
    "training_set_scaled[:5]"
   ]
  },
  {
   "cell_type": "code",
   "execution_count": 8,
   "metadata": {},
   "outputs": [],
   "source": [
    "# Creating a data structure with 60 timesteps and 1 output =>learn from previous 60 inputs for next output\n",
    "X_train = []\n",
    "y_train = []"
   ]
  },
  {
   "cell_type": "code",
   "execution_count": 9,
   "metadata": {},
   "outputs": [],
   "source": [
    "for i in range(60, len(training_set_scaled)):\n",
    "    X_train.append(training_set_scaled[i-60:i, 0]) # From 0 to 59 \n",
    "    y_train.append(training_set_scaled[i, 0])  #Output of 0 to 59\n",
    "\n",
    "X_train, y_train = np.array((X_train)), np.array(y_train)"
   ]
  },
  {
   "cell_type": "code",
   "execution_count": 10,
   "metadata": {},
   "outputs": [
    {
     "data": {
      "text/plain": [
       "array([[0.08581368, 0.09701243, 0.09433366, ..., 0.07846566, 0.08034452,\n",
       "        0.08497656],\n",
       "       [0.09701243, 0.09433366, 0.09156187, ..., 0.08034452, 0.08497656,\n",
       "        0.08627874],\n",
       "       [0.09433366, 0.09156187, 0.07984225, ..., 0.08497656, 0.08627874,\n",
       "        0.08471612],\n",
       "       ...,\n",
       "       [0.92106928, 0.92438053, 0.93048218, ..., 0.95475854, 0.95204256,\n",
       "        0.95163331],\n",
       "       [0.92438053, 0.93048218, 0.9299055 , ..., 0.95204256, 0.95163331,\n",
       "        0.95725128],\n",
       "       [0.93048218, 0.9299055 , 0.93113327, ..., 0.95163331, 0.95725128,\n",
       "        0.93796041]])"
      ]
     },
     "execution_count": 10,
     "metadata": {},
     "output_type": "execute_result"
    }
   ],
   "source": [
    "X_train"
   ]
  },
  {
   "cell_type": "code",
   "execution_count": 11,
   "metadata": {},
   "outputs": [
    {
     "data": {
      "text/plain": [
       "0.08627874097775134"
      ]
     },
     "execution_count": 11,
     "metadata": {},
     "output_type": "execute_result"
    }
   ],
   "source": [
    "X_train[60,0]"
   ]
  },
  {
   "cell_type": "code",
   "execution_count": 12,
   "metadata": {},
   "outputs": [
    {
     "data": {
      "text/plain": [
       "0.08497656075600868"
      ]
     },
     "execution_count": 12,
     "metadata": {},
     "output_type": "execute_result"
    }
   ],
   "source": [
    "X_train[59,0]"
   ]
  },
  {
   "cell_type": "code",
   "execution_count": 13,
   "metadata": {},
   "outputs": [
    {
     "data": {
      "text/plain": [
       "0.08627874097775134"
      ]
     },
     "execution_count": 13,
     "metadata": {},
     "output_type": "execute_result"
    }
   ],
   "source": [
    "y_train[0]"
   ]
  },
  {
   "cell_type": "code",
   "execution_count": 14,
   "metadata": {},
   "outputs": [
    {
     "data": {
      "text/plain": [
       "array([0.08627874, 0.08471612, 0.07454052, ..., 0.95725128, 0.93796041,\n",
       "       0.93688146])"
      ]
     },
     "execution_count": 14,
     "metadata": {},
     "output_type": "execute_result"
    }
   ],
   "source": [
    "y_train"
   ]
  },
  {
   "cell_type": "code",
   "execution_count": 15,
   "metadata": {},
   "outputs": [],
   "source": [
    "#Reshape\n",
    "X_train = np.reshape(X_train, (X_train.shape[0], X_train.shape[1],1))"
   ]
  },
  {
   "cell_type": "code",
   "execution_count": 16,
   "metadata": {},
   "outputs": [
    {
     "data": {
      "text/plain": [
       "(1198, 60, 1)"
      ]
     },
     "execution_count": 16,
     "metadata": {},
     "output_type": "execute_result"
    }
   ],
   "source": [
    "X_train.shape"
   ]
  },
  {
   "cell_type": "code",
   "execution_count": 17,
   "metadata": {},
   "outputs": [
    {
     "data": {
      "text/plain": [
       "array([[[0.08581368],\n",
       "        [0.09701243],\n",
       "        [0.09433366],\n",
       "        ...,\n",
       "        [0.07846566],\n",
       "        [0.08034452],\n",
       "        [0.08497656]],\n",
       "\n",
       "       [[0.09701243],\n",
       "        [0.09433366],\n",
       "        [0.09156187],\n",
       "        ...,\n",
       "        [0.08034452],\n",
       "        [0.08497656],\n",
       "        [0.08627874]],\n",
       "\n",
       "       [[0.09433366],\n",
       "        [0.09156187],\n",
       "        [0.07984225],\n",
       "        ...,\n",
       "        [0.08497656],\n",
       "        [0.08627874],\n",
       "        [0.08471612]],\n",
       "\n",
       "       ...,\n",
       "\n",
       "       [[0.92106928],\n",
       "        [0.92438053],\n",
       "        [0.93048218],\n",
       "        ...,\n",
       "        [0.95475854],\n",
       "        [0.95204256],\n",
       "        [0.95163331]],\n",
       "\n",
       "       [[0.92438053],\n",
       "        [0.93048218],\n",
       "        [0.9299055 ],\n",
       "        ...,\n",
       "        [0.95204256],\n",
       "        [0.95163331],\n",
       "        [0.95725128]],\n",
       "\n",
       "       [[0.93048218],\n",
       "        [0.9299055 ],\n",
       "        [0.93113327],\n",
       "        ...,\n",
       "        [0.95163331],\n",
       "        [0.95725128],\n",
       "        [0.93796041]]])"
      ]
     },
     "execution_count": 17,
     "metadata": {},
     "output_type": "execute_result"
    }
   ],
   "source": [
    "X_train"
   ]
  },
  {
   "cell_type": "markdown",
   "metadata": {},
   "source": [
    "## Creating RNN"
   ]
  },
  {
   "cell_type": "code",
   "execution_count": 18,
   "metadata": {},
   "outputs": [
    {
     "name": "stderr",
     "output_type": "stream",
     "text": [
      "Using TensorFlow backend.\n"
     ]
    }
   ],
   "source": [
    "import keras\n",
    "from keras.models import Sequential\n",
    "from keras.layers import Dense, Dropout\n",
    "from keras.layers import LSTM"
   ]
  },
  {
   "cell_type": "code",
   "execution_count": 19,
   "metadata": {},
   "outputs": [],
   "source": [
    "#Initializing RNN\n",
    "regressor = Sequential()"
   ]
  },
  {
   "cell_type": "code",
   "execution_count": 20,
   "metadata": {},
   "outputs": [
    {
     "name": "stdout",
     "output_type": "stream",
     "text": [
      "WARNING:tensorflow:From C:\\Users\\Nimish\\Anaconda3\\lib\\site-packages\\tensorflow\\python\\ops\\resource_variable_ops.py:435: colocate_with (from tensorflow.python.framework.ops) is deprecated and will be removed in a future version.\n",
      "Instructions for updating:\n",
      "Colocations handled automatically by placer.\n"
     ]
    }
   ],
   "source": [
    "# First LSTM Layer\n",
    "regressor.add(LSTM(units=50, return_sequences=True, input_shape=(X_train.shape[1], 1)))\n",
    "regressor.add(Dropout(0.2))\n",
    "\n",
    "#Second Layer\n",
    "regressor.add(LSTM(units=50, return_sequences=True))\n",
    "regressor.add(Dropout(0.2))\n",
    "\n",
    "#Third Layer\n",
    "regressor.add(LSTM(units=50, return_sequences=True))\n",
    "regressor.add(Dropout(0.2))\n",
    "\n",
    "regressor.add(LSTM(units=50))\n",
    "regressor.add(Dropout(0.2))\n",
    "\n",
    "#Output Layer\n",
    "regressor.add(Dense(units=1))"
   ]
  },
  {
   "cell_type": "code",
   "execution_count": 21,
   "metadata": {},
   "outputs": [],
   "source": [
    "regressor.compile(optimizer='adam',loss='mean_squared_error', metrics=['accuracy'])"
   ]
  },
  {
   "cell_type": "code",
   "execution_count": 22,
   "metadata": {},
   "outputs": [
    {
     "name": "stdout",
     "output_type": "stream",
     "text": [
      "WARNING:tensorflow:From C:\\Users\\Nimish\\Anaconda3\\lib\\site-packages\\tensorflow\\python\\ops\\math_ops.py:3066: to_int32 (from tensorflow.python.ops.math_ops) is deprecated and will be removed in a future version.\n",
      "Instructions for updating:\n",
      "Use tf.cast instead.\n",
      "Epoch 1/100\n",
      "1198/1198 [==============================] - 11s 9ms/step - loss: 0.0468 - accuracy: 0.0017\n",
      "Epoch 2/100\n",
      "1198/1198 [==============================] - 8s 6ms/step - loss: 0.0063 - accuracy: 0.0017: 1s - loss: 0.0063 \n",
      "Epoch 3/100\n",
      "1198/1198 [==============================] - 8s 7ms/step - loss: 0.0054 - accuracy: 0.0017\n",
      "Epoch 4/100\n",
      "1198/1198 [==============================] - 8s 7ms/step - loss: 0.0053 - accuracy: 0.0017\n",
      "Epoch 5/100\n",
      "1198/1198 [==============================] - 8s 7ms/step - loss: 0.0055 - accuracy: 0.0017\n",
      "Epoch 6/100\n",
      "1198/1198 [==============================] - 8s 6ms/step - loss: 0.0052 - accuracy: 0.0017\n",
      "Epoch 7/100\n",
      "1198/1198 [==============================] - 8s 6ms/step - loss: 0.0054 - accuracy: 0.0017\n",
      "Epoch 8/100\n",
      "1198/1198 [==============================] - 8s 6ms/step - loss: 0.0048 - accuracy: 0.0017\n",
      "Epoch 9/100\n",
      "1198/1198 [==============================] - 8s 7ms/step - loss: 0.0049 - accuracy: 0.0017\n",
      "Epoch 10/100\n",
      "1198/1198 [==============================] - 8s 7ms/step - loss: 0.0045 - accuracy: 0.0017\n",
      "Epoch 11/100\n",
      "1198/1198 [==============================] - 8s 7ms/step - loss: 0.0044 - accuracy: 0.0017\n",
      "Epoch 12/100\n",
      "1198/1198 [==============================] - 8s 6ms/step - loss: 0.0043 - accuracy: 0.0017\n",
      "Epoch 13/100\n",
      "1198/1198 [==============================] - 8s 7ms/step - loss: 0.0039 - accuracy: 0.0017\n",
      "Epoch 14/100\n",
      "1198/1198 [==============================] - 8s 7ms/step - loss: 0.0041 - accuracy: 0.0017\n",
      "Epoch 15/100\n",
      "1198/1198 [==============================] - 8s 7ms/step - loss: 0.0037 - accuracy: 0.0017\n",
      "Epoch 16/100\n",
      "1198/1198 [==============================] - 8s 6ms/step - loss: 0.0041 - accuracy: 0.0017\n",
      "Epoch 17/100\n",
      "1198/1198 [==============================] - 8s 6ms/step - loss: 0.0040 - accuracy: 0.0017\n",
      "Epoch 18/100\n",
      "1198/1198 [==============================] - 8s 6ms/step - loss: 0.0034 - accuracy: 0.0017\n",
      "Epoch 19/100\n",
      "1198/1198 [==============================] - 7s 6ms/step - loss: 0.0033 - accuracy: 0.0017\n",
      "Epoch 20/100\n",
      "1198/1198 [==============================] - 8s 6ms/step - loss: 0.0032 - accuracy: 0.0017\n",
      "Epoch 21/100\n",
      "1198/1198 [==============================] - 8s 7ms/step - loss: 0.0036 - accuracy: 0.0017\n",
      "Epoch 22/100\n",
      "1198/1198 [==============================] - 8s 7ms/step - loss: 0.0036 - accuracy: 0.0017\n",
      "Epoch 23/100\n",
      "1198/1198 [==============================] - 8s 7ms/step - loss: 0.0035 - accuracy: 0.0017\n",
      "Epoch 24/100\n",
      "1198/1198 [==============================] - 11s 9ms/step - loss: 0.0034 - accuracy: 0.0017\n",
      "Epoch 25/100\n",
      "1198/1198 [==============================] - 11s 9ms/step - loss: 0.0034 - accuracy: 0.0017\n",
      "Epoch 26/100\n",
      "1198/1198 [==============================] - 13s 11ms/step - loss: 0.0033 - accuracy: 0.0017\n",
      "Epoch 27/100\n",
      "1198/1198 [==============================] - 13s 11ms/step - loss: 0.0032 - accuracy: 0.0017\n",
      "Epoch 28/100\n",
      "1198/1198 [==============================] - 12s 10ms/step - loss: 0.0029 - accuracy: 0.0017\n",
      "Epoch 29/100\n",
      "1198/1198 [==============================] - 11s 9ms/step - loss: 0.0031 - accuracy: 0.0017\n",
      "Epoch 30/100\n",
      "1198/1198 [==============================] - 12s 10ms/step - loss: 0.0029 - accuracy: 0.0017\n",
      "Epoch 31/100\n",
      "1198/1198 [==============================] - 12s 10ms/step - loss: 0.0032 - accuracy: 0.0017\n",
      "Epoch 32/100\n",
      "1198/1198 [==============================] - 12s 10ms/step - loss: 0.0026 - accuracy: 0.0017\n",
      "Epoch 33/100\n",
      "1198/1198 [==============================] - 11s 10ms/step - loss: 0.0028 - accuracy: 0.0017\n",
      "Epoch 34/100\n",
      "1198/1198 [==============================] - 11s 9ms/step - loss: 0.0030 - accuracy: 0.0017\n",
      "Epoch 35/100\n",
      "1198/1198 [==============================] - 12s 10ms/step - loss: 0.0028 - accuracy: 0.0017\n",
      "Epoch 36/100\n",
      "1198/1198 [==============================] - 18s 15ms/step - loss: 0.0026 - accuracy: 0.0017\n",
      "Epoch 37/100\n",
      "1198/1198 [==============================] - 17s 14ms/step - loss: 0.0027 - accuracy: 0.0017\n",
      "Epoch 38/100\n",
      "1198/1198 [==============================] - 18s 15ms/step - loss: 0.0028 - accuracy: 0.0017\n",
      "Epoch 39/100\n",
      "1198/1198 [==============================] - 12s 10ms/step - loss: 0.0028 - accuracy: 0.0017\n",
      "Epoch 40/100\n",
      "1198/1198 [==============================] - 15s 13ms/step - loss: 0.0024 - accuracy: 0.0017\n",
      "Epoch 41/100\n",
      "1198/1198 [==============================] - 26s 22ms/step - loss: 0.0024 - accuracy: 0.0017\n",
      "Epoch 42/100\n",
      "1198/1198 [==============================] - 26s 22ms/step - loss: 0.0025 - accuracy: 0.0017\n",
      "Epoch 43/100\n",
      "1198/1198 [==============================] - 26s 21ms/step - loss: 0.0024 - accuracy: 0.0017\n",
      "Epoch 44/100\n",
      "1198/1198 [==============================] - 26s 21ms/step - loss: 0.0024 - accuracy: 0.0017\n",
      "Epoch 45/100\n",
      "1198/1198 [==============================] - 23s 19ms/step - loss: 0.0024 - accuracy: 0.0017\n",
      "Epoch 46/100\n",
      "1198/1198 [==============================] - 25s 20ms/step - loss: 0.0028 - accuracy: 0.0017\n",
      "Epoch 47/100\n",
      "1198/1198 [==============================] - 22s 18ms/step - loss: 0.0023 - accuracy: 0.0017\n",
      "Epoch 48/100\n",
      "1198/1198 [==============================] - 21s 17ms/step - loss: 0.0025 - accuracy: 0.0017\n",
      "Epoch 49/100\n",
      "1198/1198 [==============================] - 26s 22ms/step - loss: 0.0023 - accuracy: 0.0017\n",
      "Epoch 50/100\n",
      "1198/1198 [==============================] - 25s 21ms/step - loss: 0.0024 - accuracy: 0.0017\n",
      "Epoch 51/100\n",
      "1198/1198 [==============================] - 25s 21ms/step - loss: 0.0023 - accuracy: 0.0017\n",
      "Epoch 52/100\n",
      "1198/1198 [==============================] - 25s 21ms/step - loss: 0.0026 - accuracy: 0.0017\n",
      "Epoch 53/100\n",
      "1198/1198 [==============================] - 25s 20ms/step - loss: 0.0023 - accuracy: 0.0017\n",
      "Epoch 54/100\n",
      "1198/1198 [==============================] - 17s 14ms/step - loss: 0.0028 - accuracy: 0.0017\n",
      "Epoch 55/100\n",
      "1198/1198 [==============================] - 11s 9ms/step - loss: 0.0025 - accuracy: 0.0017\n",
      "Epoch 56/100\n",
      "1198/1198 [==============================] - 12s 10ms/step - loss: 0.0026 - accuracy: 0.0017\n",
      "Epoch 57/100\n",
      "1198/1198 [==============================] - 17s 14ms/step - loss: 0.0021 - accuracy: 0.0017\n",
      "Epoch 58/100\n",
      "1198/1198 [==============================] - 26s 21ms/step - loss: 0.0024 - accuracy: 0.0017\n",
      "Epoch 59/100\n",
      "1198/1198 [==============================] - 25s 21ms/step - loss: 0.0020 - accuracy: 0.0017\n",
      "Epoch 60/100\n",
      "1198/1198 [==============================] - 26s 22ms/step - loss: 0.0024 - accuracy: 0.0017\n",
      "Epoch 61/100\n",
      "1198/1198 [==============================] - 24s 20ms/step - loss: 0.0022 - accuracy: 0.0017\n",
      "Epoch 62/100\n",
      "1198/1198 [==============================] - 26s 21ms/step - loss: 0.0022 - accuracy: 0.0017\n",
      "Epoch 63/100\n",
      "1198/1198 [==============================] - 25s 21ms/step - loss: 0.0019 - accuracy: 0.0017\n",
      "Epoch 64/100\n",
      "1198/1198 [==============================] - 27s 23ms/step - loss: 0.0020 - accuracy: 0.0017\n",
      "Epoch 65/100\n",
      "1198/1198 [==============================] - 16s 13ms/step - loss: 0.0020 - accuracy: 0.0017\n",
      "Epoch 66/100\n",
      "1198/1198 [==============================] - 19s 16ms/step - loss: 0.0020 - accuracy: 0.0017\n",
      "Epoch 67/100\n",
      "1198/1198 [==============================] - 26s 22ms/step - loss: 0.0018 - accuracy: 0.0017\n",
      "Epoch 68/100\n",
      "1198/1198 [==============================] - 26s 22ms/step - loss: 0.0018 - accuracy: 0.0017\n",
      "Epoch 69/100\n",
      "1198/1198 [==============================] - 20s 17ms/step - loss: 0.0019 - accuracy: 0.0017\n",
      "Epoch 70/100\n",
      "1198/1198 [==============================] - 25s 21ms/step - loss: 0.0019 - accuracy: 0.0017\n",
      "Epoch 71/100\n",
      "1198/1198 [==============================] - 17s 14ms/step - loss: 0.0018 - accuracy: 0.0017\n",
      "Epoch 72/100\n",
      "1198/1198 [==============================] - 16s 13ms/step - loss: 0.0017 - accuracy: 0.0017\n",
      "Epoch 73/100\n",
      "1198/1198 [==============================] - 24s 20ms/step - loss: 0.0019 - accuracy: 0.0017\n",
      "Epoch 74/100\n",
      "1198/1198 [==============================] - 25s 21ms/step - loss: 0.0017 - accuracy: 0.0017\n",
      "Epoch 75/100\n",
      "1198/1198 [==============================] - 26s 22ms/step - loss: 0.0019 - accuracy: 0.0017\n",
      "Epoch 76/100\n"
     ]
    },
    {
     "name": "stdout",
     "output_type": "stream",
     "text": [
      "1198/1198 [==============================] - 21s 18ms/step - loss: 0.0017 - accuracy: 0.0017\n",
      "Epoch 77/100\n",
      "1198/1198 [==============================] - 22s 18ms/step - loss: 0.0019 - accuracy: 0.0017\n",
      "Epoch 78/100\n",
      "1198/1198 [==============================] - 27s 22ms/step - loss: 0.0017 - accuracy: 0.0017\n",
      "Epoch 79/100\n",
      "1198/1198 [==============================] - 23s 20ms/step - loss: 0.0019 - accuracy: 0.0017\n",
      "Epoch 80/100\n",
      "1198/1198 [==============================] - 21s 18ms/step - loss: 0.0018 - accuracy: 0.0017\n",
      "Epoch 81/100\n",
      "1198/1198 [==============================] - 21s 17ms/step - loss: 0.0018 - accuracy: 0.0017\n",
      "Epoch 82/100\n",
      "1198/1198 [==============================] - 25s 21ms/step - loss: 0.0017 - accuracy: 0.0017\n",
      "Epoch 83/100\n",
      "1198/1198 [==============================] - 16s 14ms/step - loss: 0.0017 - accuracy: 0.0017\n",
      "Epoch 84/100\n",
      "1198/1198 [==============================] - 11s 9ms/step - loss: 0.0016 - accuracy: 0.0017\n",
      "Epoch 85/100\n",
      "1198/1198 [==============================] - 10s 8ms/step - loss: 0.0016 - accuracy: 0.0017\n",
      "Epoch 86/100\n",
      "1198/1198 [==============================] - 12s 10ms/step - loss: 0.0016 - accuracy: 0.0017\n",
      "Epoch 87/100\n",
      "1198/1198 [==============================] - 15s 12ms/step - loss: 0.0016 - accuracy: 0.0017\n",
      "Epoch 88/100\n",
      "1198/1198 [==============================] - 11s 9ms/step - loss: 0.0014 - accuracy: 0.0017\n",
      "Epoch 89/100\n",
      "1198/1198 [==============================] - 11s 9ms/step - loss: 0.0017 - accuracy: 0.0017\n",
      "Epoch 90/100\n",
      "1198/1198 [==============================] - 11s 9ms/step - loss: 0.0018 - accuracy: 0.0017\n",
      "Epoch 91/100\n",
      "1198/1198 [==============================] - 22s 18ms/step - loss: 0.0016 - accuracy: 0.0017\n",
      "Epoch 92/100\n",
      "1198/1198 [==============================] - 13s 11ms/step - loss: 0.0015 - accuracy: 0.0017\n",
      "Epoch 93/100\n",
      "1198/1198 [==============================] - 15s 12ms/step - loss: 0.0015 - accuracy: 0.0017\n",
      "Epoch 94/100\n",
      "1198/1198 [==============================] - 26s 22ms/step - loss: 0.0014 - accuracy: 0.0017\n",
      "Epoch 95/100\n",
      "1198/1198 [==============================] - 27s 22ms/step - loss: 0.0015 - accuracy: 0.0017\n",
      "Epoch 96/100\n",
      "1198/1198 [==============================] - 27s 23ms/step - loss: 0.0014 - accuracy: 0.0017\n",
      "Epoch 97/100\n",
      "1198/1198 [==============================] - 27s 23ms/step - loss: 0.0017 - accuracy: 0.0017\n",
      "Epoch 98/100\n",
      "1198/1198 [==============================] - 26s 22ms/step - loss: 0.0015 - accuracy: 0.0017\n",
      "Epoch 99/100\n",
      "1198/1198 [==============================] - 27s 22ms/step - loss: 0.0015 - accuracy: 0.0017\n",
      "Epoch 100/100\n",
      "1198/1198 [==============================] - 26s 21ms/step - loss: 0.0013 - accuracy: 0.0017\n"
     ]
    },
    {
     "data": {
      "text/plain": [
       "<keras.callbacks.callbacks.History at 0x1322bad0588>"
      ]
     },
     "execution_count": 22,
     "metadata": {},
     "output_type": "execute_result"
    }
   ],
   "source": [
    "#Fitting RNN on Training data\n",
    "regressor.fit(X_train,y_train, epochs=100, batch_size=32)"
   ]
  },
  {
   "cell_type": "markdown",
   "metadata": {},
   "source": [
    "## Testing"
   ]
  },
  {
   "cell_type": "code",
   "execution_count": 23,
   "metadata": {},
   "outputs": [],
   "source": [
    "# Getting the real stock price of 2017\n",
    "dataset_test = pd.read_csv('Google_Stock_Price_Test.csv')\n",
    "real_stock_price = dataset_test.iloc[:, 1:2].values"
   ]
  },
  {
   "cell_type": "code",
   "execution_count": 24,
   "metadata": {},
   "outputs": [
    {
     "data": {
      "text/html": [
       "<div>\n",
       "<style scoped>\n",
       "    .dataframe tbody tr th:only-of-type {\n",
       "        vertical-align: middle;\n",
       "    }\n",
       "\n",
       "    .dataframe tbody tr th {\n",
       "        vertical-align: top;\n",
       "    }\n",
       "\n",
       "    .dataframe thead th {\n",
       "        text-align: right;\n",
       "    }\n",
       "</style>\n",
       "<table border=\"1\" class=\"dataframe\">\n",
       "  <thead>\n",
       "    <tr style=\"text-align: right;\">\n",
       "      <th></th>\n",
       "      <th>Date</th>\n",
       "      <th>Open</th>\n",
       "      <th>High</th>\n",
       "      <th>Low</th>\n",
       "      <th>Close</th>\n",
       "      <th>Volume</th>\n",
       "    </tr>\n",
       "  </thead>\n",
       "  <tbody>\n",
       "    <tr>\n",
       "      <th>0</th>\n",
       "      <td>1/3/2017</td>\n",
       "      <td>778.81</td>\n",
       "      <td>789.63</td>\n",
       "      <td>775.80</td>\n",
       "      <td>786.14</td>\n",
       "      <td>1,657,300</td>\n",
       "    </tr>\n",
       "    <tr>\n",
       "      <th>1</th>\n",
       "      <td>1/4/2017</td>\n",
       "      <td>788.36</td>\n",
       "      <td>791.34</td>\n",
       "      <td>783.16</td>\n",
       "      <td>786.90</td>\n",
       "      <td>1,073,000</td>\n",
       "    </tr>\n",
       "    <tr>\n",
       "      <th>2</th>\n",
       "      <td>1/5/2017</td>\n",
       "      <td>786.08</td>\n",
       "      <td>794.48</td>\n",
       "      <td>785.02</td>\n",
       "      <td>794.02</td>\n",
       "      <td>1,335,200</td>\n",
       "    </tr>\n",
       "    <tr>\n",
       "      <th>3</th>\n",
       "      <td>1/6/2017</td>\n",
       "      <td>795.26</td>\n",
       "      <td>807.90</td>\n",
       "      <td>792.20</td>\n",
       "      <td>806.15</td>\n",
       "      <td>1,640,200</td>\n",
       "    </tr>\n",
       "    <tr>\n",
       "      <th>4</th>\n",
       "      <td>1/9/2017</td>\n",
       "      <td>806.40</td>\n",
       "      <td>809.97</td>\n",
       "      <td>802.83</td>\n",
       "      <td>806.65</td>\n",
       "      <td>1,272,400</td>\n",
       "    </tr>\n",
       "  </tbody>\n",
       "</table>\n",
       "</div>"
      ],
      "text/plain": [
       "       Date    Open    High     Low   Close     Volume\n",
       "0  1/3/2017  778.81  789.63  775.80  786.14  1,657,300\n",
       "1  1/4/2017  788.36  791.34  783.16  786.90  1,073,000\n",
       "2  1/5/2017  786.08  794.48  785.02  794.02  1,335,200\n",
       "3  1/6/2017  795.26  807.90  792.20  806.15  1,640,200\n",
       "4  1/9/2017  806.40  809.97  802.83  806.65  1,272,400"
      ]
     },
     "execution_count": 24,
     "metadata": {},
     "output_type": "execute_result"
    }
   ],
   "source": [
    "dataset_test.head()"
   ]
  },
  {
   "cell_type": "code",
   "execution_count": 25,
   "metadata": {},
   "outputs": [],
   "source": [
    "# Getting the predicted stock price of 2017\n",
    "# To get previous 60 values to predict as RNN\n",
    "dataset_total = pd.concat((dataset_train['Open'], dataset_test['Open']), axis = 0) \n",
    "inputs = dataset_total[len(dataset_total) - len(dataset_test) - 60:].values\n",
    "inputs = inputs.reshape(-1,1)\n",
    "inputs = mc.fit_transform(inputs)"
   ]
  },
  {
   "cell_type": "code",
   "execution_count": 26,
   "metadata": {},
   "outputs": [],
   "source": [
    "X_test = []\n",
    "for i in range(60, 80):\n",
    "    X_test.append(inputs[i-60:i, 0])\n",
    "X_test = np.array(X_test)\n",
    "X_test = np.reshape(X_test, (X_test.shape[0], X_test.shape[1], 1))\n",
    "predicted_stock_price = regressor.predict(X_test)\n",
    "predicted_stock_price = mc.inverse_transform(predicted_stock_price)"
   ]
  },
  {
   "cell_type": "code",
   "execution_count": 27,
   "metadata": {},
   "outputs": [
    {
     "data": {
      "image/png": "[encoded data removed]",
      "text/plain": [
       "<Figure size 432x288 with 1 Axes>"
      ]
     },
     "metadata": {
      "needs_background": "light"
     },
     "output_type": "display_data"
    }
   ],
   "source": [
    "# Visualising the results\n",
    "plt.plot(real_stock_price, color = 'red', label = 'Real Google Stock Price')\n",
    "plt.plot(predicted_stock_price, color = 'blue', label = 'Predicted Google Stock Price')\n",
    "plt.title('Google Stock Price Prediction')\n",
    "plt.xlabel('Time')\n",
    "plt.ylabel('Google Stock Price')\n",
    "plt.legend()\n",
    "plt.show()"
   ]
  },
  {
   "cell_type": "code",
   "execution_count": null,
   "metadata": {},
   "outputs": [],
   "source": []
  }
 ],
 "metadata": {
  "kernelspec": {
   "display_name": "Python 3",
   "language": "python",
   "name": "python3"
  },
  "language_info": {
   "codemirror_mode": {
    "name": "ipython",
    "version": 3
   },
   "file_extension": ".py",
   "mimetype": "text/x-python",
   "name": "python",
   "nbconvert_exporter": "python",
   "pygments_lexer": "ipython3",
   "version": "3.7.3"
  }
 },
 "nbformat": 4,
 "nbformat_minor": 2
}
